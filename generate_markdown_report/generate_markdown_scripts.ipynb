{
 "cells": [
  {
   "cell_type": "code",
   "execution_count": 35,
   "metadata": {},
   "outputs": [],
   "source": [
    "from mdutils.mdutils import MdUtils\n",
    "import json\n",
    "import pandas as pd"
   ]
  },
  {
   "cell_type": "code",
   "execution_count": 142,
   "metadata": {},
   "outputs": [],
   "source": [
    "vulnerability_df = pd.read_csv('../analysing_vulnerability_data/results/vulnerability_report.csv', header=0, index_col=0)\n",
    "summary_df = pd.read_csv('../analysing_vulnerability_data/results/summary_report.csv', header=0, index_col=0).to_dict()"
   ]
  },
  {
   "cell_type": "code",
   "execution_count": 143,
   "metadata": {},
   "outputs": [
    {
     "data": {
      "text/plain": [
       "{'Unspecified': {0: 0},\n",
       " 'Low': {0: 0},\n",
       " 'Moderate': {0: 2},\n",
       " 'High': {0: 12},\n",
       " 'Critical': {0: 2}}"
      ]
     },
     "execution_count": 143,
     "metadata": {},
     "output_type": "execute_result"
    }
   ],
   "source": [
    "summary_df"
   ]
  },
  {
   "cell_type": "code",
   "execution_count": 118,
   "metadata": {},
   "outputs": [],
   "source": [
    "test = list(summary_df)"
   ]
  },
  {
   "cell_type": "code",
   "execution_count": 119,
   "metadata": {},
   "outputs": [],
   "source": [
    "test2 = summary_df.astype(str).values.tolist()"
   ]
  },
  {
   "cell_type": "code",
   "execution_count": 120,
   "metadata": {},
   "outputs": [],
   "source": [
    "test.extend(test2[0])"
   ]
  },
  {
   "cell_type": "code",
   "execution_count": 121,
   "metadata": {},
   "outputs": [
    {
     "data": {
      "text/plain": [
       "['Unspecified',\n",
       " 'Low',\n",
       " 'Moderate',\n",
       " 'High',\n",
       " 'Critical',\n",
       " '0',\n",
       " '0',\n",
       " '2',\n",
       " '12',\n",
       " '2']"
      ]
     },
     "execution_count": 121,
     "metadata": {},
     "output_type": "execute_result"
    }
   ],
   "source": [
    "test"
   ]
  },
  {
   "cell_type": "code",
   "execution_count": 187,
   "metadata": {},
   "outputs": [],
   "source": [
    "mdFile = MdUtils(file_name='Example_Markdown',title='Markdown File Example')\n",
    "# mdFile.new_table(columns=5, rows=2, text=test)"
   ]
  },
  {
   "cell_type": "code",
   "execution_count": 188,
   "metadata": {},
   "outputs": [
    {
     "data": {
      "text/plain": [
       "'  \\n## Summary'"
      ]
     },
     "execution_count": 188,
     "metadata": {},
     "output_type": "execute_result"
    }
   ],
   "source": [
    "mdFile.new_line(\"## Summary\")"
   ]
  },
  {
   "cell_type": "code",
   "execution_count": 189,
   "metadata": {},
   "outputs": [],
   "source": [
    "line_contents = [\"❔ **Unspecified**: \" + str(summary_df['Unspecified'][0]), \"🟡 **Low**: \" + str(summary_df['Low'][0]), \"🟠 **Moderate**: \" + str(summary_df['Moderate'][0]), \"🔴 **High**: \" + str(summary_df['High'][0]), \"❗ **Critical**: \" + str(summary_df['Critical'][0])]\n",
    "# mdFile.new_line(line_contents)"
   ]
  },
  {
   "cell_type": "code",
   "execution_count": 190,
   "metadata": {},
   "outputs": [],
   "source": [
    "for each in line_contents:\n",
    "    mdFile.new_line(each)"
   ]
  },
  {
   "cell_type": "code",
   "execution_count": 191,
   "metadata": {},
   "outputs": [
    {
     "data": {
      "text/plain": [
       "<mdutils.fileutils.fileutils.MarkDownFile at 0x11c1721a0>"
      ]
     },
     "execution_count": 191,
     "metadata": {},
     "output_type": "execute_result"
    }
   ],
   "source": [
    "mdFile.create_md_file()"
   ]
  },
  {
   "cell_type": "code",
   "execution_count": 192,
   "metadata": {},
   "outputs": [
    {
     "name": "stdout",
     "output_type": "stream",
     "text": [
      "coordinates\n",
      "id\n",
      "title\n",
      "description\n",
      "cwe\n",
      "cve\n",
      "severity\n",
      "epss.cve\n",
      "epss.epss\n",
      "epss.percentile\n",
      "epss.date\n",
      "componentname\n",
      "sbom_name\n"
     ]
    }
   ],
   "source": [
    "for each in vulnerability_df:\n",
    "    print(each)"
   ]
  },
  {
   "cell_type": "code",
   "execution_count": 201,
   "metadata": {},
   "outputs": [],
   "source": [
    "filtered_df = vulnerability_df[vulnerability_df[\"severity\"] == \"Critical\"]"
   ]
  },
  {
   "cell_type": "code",
   "execution_count": 202,
   "metadata": {},
   "outputs": [
    {
     "data": {
      "text/html": [
       "<div>\n",
       "<style scoped>\n",
       "    .dataframe tbody tr th:only-of-type {\n",
       "        vertical-align: middle;\n",
       "    }\n",
       "\n",
       "    .dataframe tbody tr th {\n",
       "        vertical-align: top;\n",
       "    }\n",
       "\n",
       "    .dataframe thead th {\n",
       "        text-align: right;\n",
       "    }\n",
       "</style>\n",
       "<table border=\"1\" class=\"dataframe\">\n",
       "  <thead>\n",
       "    <tr style=\"text-align: right;\">\n",
       "      <th></th>\n",
       "      <th>coordinates</th>\n",
       "      <th>id</th>\n",
       "      <th>title</th>\n",
       "      <th>description</th>\n",
       "      <th>cwe</th>\n",
       "      <th>cve</th>\n",
       "      <th>severity</th>\n",
       "      <th>epss.cve</th>\n",
       "      <th>epss.epss</th>\n",
       "      <th>epss.percentile</th>\n",
       "      <th>epss.date</th>\n",
       "      <th>componentname</th>\n",
       "      <th>sbom_name</th>\n",
       "    </tr>\n",
       "  </thead>\n",
       "  <tbody>\n",
       "  </tbody>\n",
       "</table>\n",
       "</div>"
      ],
      "text/plain": [
       "Empty DataFrame\n",
       "Columns: [coordinates, id, title, description, cwe, cve, severity, epss.cve, epss.epss, epss.percentile, epss.date, componentname, sbom_name]\n",
       "Index: []"
      ]
     },
     "execution_count": 202,
     "metadata": {},
     "output_type": "execute_result"
    }
   ],
   "source": [
    "filtered_df"
   ]
  },
  {
   "cell_type": "code",
   "execution_count": 193,
   "metadata": {},
   "outputs": [],
   "source": [
    "severity = ['Unspecified', 'Low', 'Moderate', 'High', 'Critical']\n",
    "for severe in severity:\n",
    "    filtered_df = vulnerability_df[vulnerability_df[\"severity\"].isin([severe])]\n",
    "    # temp = vulnerability_df.filter(like=severe, )\n",
    "    columns = [\"coordinates\", \"id\", \"title\", \"description\", \"cwe\", \"cve\", \"severity\", \"epss.cve\", \"epss.epss\", \"epss.percentile\", \"epss.date\", \"componentname\", \"sbom_name\"]\n",
    "    for index, row in filtered_df.iterrows():\n",
    "        for each in columns:\n",
    "            if each == \"componentname\":\n",
    "                line = \"## \" + each + \": \" + str(row[each])\n",
    "            else:\n",
    "                line = each + \": \" + str(row[each])\n",
    "            mdFile.new_line(line)\n",
    "    "
   ]
  },
  {
   "cell_type": "code",
   "execution_count": 194,
   "metadata": {},
   "outputs": [
    {
     "data": {
      "text/plain": [
       "<mdutils.fileutils.fileutils.MarkDownFile at 0x11cc35360>"
      ]
     },
     "execution_count": 194,
     "metadata": {},
     "output_type": "execute_result"
    }
   ],
   "source": [
    "mdFile.create_md_file()"
   ]
  }
 ],
 "metadata": {
  "kernelspec": {
   "display_name": "Python 3",
   "language": "python",
   "name": "python3"
  },
  "language_info": {
   "codemirror_mode": {
    "name": "ipython",
    "version": 3
   },
   "file_extension": ".py",
   "mimetype": "text/x-python",
   "name": "python",
   "nbconvert_exporter": "python",
   "pygments_lexer": "ipython3",
   "version": "3.10.2"
  }
 },
 "nbformat": 4,
 "nbformat_minor": 2
}
