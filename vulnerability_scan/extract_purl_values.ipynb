{
 "cells": [
  {
   "cell_type": "code",
   "execution_count": null,
   "metadata": {},
   "outputs": [],
   "source": [
    "import pathlib\n",
    "import json \n",
    "import pandas as pd\n",
    "\n",
    "data_path = pathlib.Path(\"data\")\n",
    "\n",
    "# .rglob() produces a generator too\n",
    "data_path.rglob(\"*\")\n",
    "\n",
    "# Which you can wrap in a list() constructor to materialize\n",
    "list_of_SBOM_paths = list(data_path.rglob(\"*.json\"))"
   ]
  },
  {
   "cell_type": "code",
   "execution_count": null,
   "metadata": {},
   "outputs": [],
   "source": [
    "print(list_of_SBOM_paths)"
   ]
  },
  {
   "cell_type": "code",
   "execution_count": null,
   "metadata": {},
   "outputs": [],
   "source": [
    "str(list_of_SBOM_paths[0])"
   ]
  },
  {
   "cell_type": "code",
   "execution_count": null,
   "metadata": {},
   "outputs": [],
   "source": [
    "dict_of_components = {}"
   ]
  },
  {
   "cell_type": "code",
   "execution_count": null,
   "metadata": {},
   "outputs": [],
   "source": [
    "df = pd.DataFrame(columns=['SBOM', 'Purl'])"
   ]
  },
  {
   "cell_type": "code",
   "execution_count": null,
   "metadata": {},
   "outputs": [],
   "source": [
    "for file in list_of_SBOM_paths:\n",
    "    if \".json\" in str(file):\n",
    "        with open(str(file), encoding=\"utf8\") as file_to_open:\n",
    "            data = file_to_open.read()\n",
    "            json_data = json.loads(data)\n",
    "            components = pd.json_normalize(json_data.get(\"Components\"))\n",
    "            temp_df = pd.DataFrame(components)\n",
    "            temp_df['SBOM'] = str(file)\n",
    "            new_df = temp_df.filter(['SBOM','Purl'], axis=1)\n",
    "            print(new_df)\n",
    "            df.join(new_df)\n",
    "            "
   ]
  },
  {
   "cell_type": "code",
   "execution_count": null,
   "metadata": {},
   "outputs": [],
   "source": [
    "print(df)"
   ]
  },
  {
   "cell_type": "code",
   "execution_count": null,
   "metadata": {},
   "outputs": [],
   "source": [
    "for file in list_of_SBOM_paths:\n",
    "    list_of_components_in_SBOM = []\n",
    "    if \".json\" in str(file):\n",
    "        with open(str(file), encoding=\"utf8\") as file_to_open:\n",
    "            data = file_to_open.read()\n",
    "            json_data = json.loads(data)\n",
    "            components = json_data.get(\"Components\")\n",
    "            for each in components:\n",
    "                purl = each.get(\"Purl\")\n",
    "                print(purl)\n",
    "                print(dict_of_components.get(purl))\n",
    "                print(dict_of_components)\n",
    "                if purl in dict_of_components:\n",
    "                    print(dict_of_components.get(purl))\n",
    "                    value = [dict_of_components.get(purl)]\n",
    "                    value = value.append(file.name)\n",
    "                    dict_of_components[purl] = value\n",
    "                else:\n",
    "                    dict_of_components[purl] = [file.name]"
   ]
  },
  {
   "cell_type": "code",
   "execution_count": null,
   "metadata": {},
   "outputs": [],
   "source": [
    "dict_of_components"
   ]
  },
  {
   "cell_type": "code",
   "execution_count": null,
   "metadata": {},
   "outputs": [],
   "source": [
    "save = json_data"
   ]
  },
  {
   "cell_type": "code",
   "execution_count": null,
   "metadata": {},
   "outputs": [],
   "source": [
    "print(save)"
   ]
  },
  {
   "cell_type": "code",
   "execution_count": null,
   "metadata": {},
   "outputs": [],
   "source": [
    "save2 = json_data.get(\"Components\")"
   ]
  },
  {
   "cell_type": "code",
   "execution_count": null,
   "metadata": {},
   "outputs": [],
   "source": [
    "one_example = save2[0]"
   ]
  },
  {
   "cell_type": "code",
   "execution_count": null,
   "metadata": {},
   "outputs": [],
   "source": [
    "one_example.get(\"Purl\")"
   ]
  },
  {
   "cell_type": "code",
   "execution_count": null,
   "metadata": {},
   "outputs": [],
   "source": [
    "list_of_components_in_SBOM = []"
   ]
  },
  {
   "cell_type": "code",
   "execution_count": null,
   "metadata": {},
   "outputs": [],
   "source": [
    "for each in save2:\n",
    "    list_of_components_in_SBOM.append(each.get(\"Purl\"))"
   ]
  },
  {
   "cell_type": "code",
   "execution_count": null,
   "metadata": {},
   "outputs": [],
   "source": [
    "list_of_components_in_SBOM"
   ]
  }
 ],
 "metadata": {
  "kernelspec": {
   "display_name": "Python 3",
   "language": "python",
   "name": "python3"
  },
  "language_info": {
   "codemirror_mode": {
    "name": "ipython",
    "version": 3
   },
   "file_extension": ".py",
   "mimetype": "text/x-python",
   "name": "python",
   "nbconvert_exporter": "python",
   "pygments_lexer": "ipython3",
   "version": "3.12.0"
  }
 },
 "nbformat": 4,
 "nbformat_minor": 2
}
