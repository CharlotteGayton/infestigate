{
 "cells": [
  {
   "cell_type": "code",
   "execution_count": 1,
   "metadata": {},
   "outputs": [],
   "source": [
    "import pandas\n",
    "from github import Github"
   ]
  },
  {
   "cell_type": "code",
   "execution_count": 2,
   "metadata": {},
   "outputs": [],
   "source": [
    "repo = Github('https://github.com/github/advisory-database')"
   ]
  },
  {
   "cell_type": "code",
   "execution_count": null,
   "metadata": {},
   "outputs": [],
   "source": [
    "contents = repo.get_repo()"
   ]
  },
  {
   "cell_type": "code",
   "execution_count": null,
   "metadata": {},
   "outputs": [],
   "source": [
    "repo = g.get_repo(\"PyGithub/PyGithub\")\n",
    "contents = repo.get_contents(\"\")\n",
    "while contents:\n",
    "    file_content = contents.pop(0)\n",
    "    if file_content.type == \"dir\":\n",
    "        contents.extend(repo.get_contents(file_content.path))\n",
    "    else:\n",
    "        print(file_content)\n",
    "\n",
    "ContentFile(path=\".gitignore\")\n",
    "ContentFile(path=\"CONTRIBUTING.md\")\n",
    "...\n",
    "ContentFile(path=\"github/tests/ReplayData/Team.testRepoPermission.txt\")\n",
    "ContentFile(path=\"github/tests/ReplayData/Team.testRepos.txt\")\n",
    "ContentFile(path=\"github/tests/ReplayData/UserKey.setUp.txt\")"
   ]
  },
  {
   "cell_type": "code",
   "execution_count": null,
   "metadata": {},
   "outputs": [],
   "source": [
    "from github import Github\n",
    "\n",
    "g = Github('xyAAAXcXACZYBx2YybC1zAzCxAYxc1Cxyz2AByb2')\n",
    "\n",
    "repo = g.get_repo('sandbox/gh_api')\n",
    "\n",
    "contents = repo.get_contents('data/dataset.csv')\n",
    "\n",
    "decoded = contents.decoded_content\n",
    "\n",
    "with open('dataset.csv', 'wb') as f:\n",
    "    f.write(decoded)"
   ]
  }
 ],
 "metadata": {
  "kernelspec": {
   "display_name": "Python 3",
   "language": "python",
   "name": "python3"
  },
  "language_info": {
   "codemirror_mode": {
    "name": "ipython",
    "version": 3
   },
   "file_extension": ".py",
   "mimetype": "text/x-python",
   "name": "python",
   "nbconvert_exporter": "python",
   "pygments_lexer": "ipython3",
   "version": "3.11.6"
  }
 },
 "nbformat": 4,
 "nbformat_minor": 2
}
